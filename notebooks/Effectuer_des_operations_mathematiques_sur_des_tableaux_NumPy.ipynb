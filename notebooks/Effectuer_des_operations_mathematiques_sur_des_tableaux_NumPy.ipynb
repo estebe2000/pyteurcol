{
  "cells": [
    {
      "cell_type": "markdown",
      "metadata": {},
      "source": [
        "# Exercice : Opérations sur des tableaux NumPy"
      ]
    },
    {
      "cell_type": "markdown",
      "metadata": {},
      "source": [
        "\n\n## Description\n\n\nDans cet exercice, vous allez utiliser la bibliothèque NumPy pour effectuer des opérations mathématiques sur des tableaux. Vous devrez compléter plusieurs parties du code pour réaliser des calculs spécifiques.\n\n\n## Exemples d'entrées/sorties\n\n\nPar exemple, si vous avez un tableau a = np.array([1, 2, 3, 4]) et un tableau b = np.array([5, 6, 7, 8]), vous devrez effectuer des opérations comme l'addition, la multiplication, etc.\n\n\n## Contraintes\n\n\n\n* Utilisez uniquement des fonctions de la bibliothèque NumPy.\n\n* Ne modifiez pas les variables d'entrée a et b.\n\n\n## Squelette de code\n\n\n```python\n\nimport numpy as np\n\n# Tableaux d'entrée\na = np.array([1, 2, 3, 4])\nb = np.array([5, 6, 7, 8])\n\n# À COMPLÉTER: Calculer la somme des éléments de a et b\nresultat_somme = # VOTRE CODE ICI\n\n# À COMPLÉTER: Calculer le produit des éléments de a et b\nresultat_produit = # VOTRE CODE ICI\n\n# À COMPLÉTER: Calculer la moyenne des éléments de a\nmoyenne_a = # VOTRE CODE ICI\n\n# À COMPLÉTER: Calculer la variance des éléments de b\nvariance_b = # VOTRE CODE ICI\n\n# À COMPLÉTER: Créer un tableau c contenant les éléments de a multipliés par 2\nc = # VOTRE CODE ICI\n\n# Tests - NE PAS SÉPARER DU CODE CI-DESSUS\ntry:\n    assert np.array_equal(resultat_somme, np.array([6, 8, 10, 12]))\n    print(\"✅ Test 1 réussi: resultat_somme == [6, 8, 10, 12]\")\nexcept AssertionError:\n    print(\"❌ Test 1 échoué: resultat_somme devrait être [6, 8, 10, 12]\")\n\ntry:\n    assert np.array_equal(resultat_produit, np.array([5, 12, 21, 32]))\n    print(\"✅ Test 2 réussi: resultat_produit == [5, 12, 21, 32]\")\nexcept AssertionError:\n    print(\"❌ Test 2 échoué: resultat_produit devrait être [5, 12, 21, 32]\")\n\n```"
      ]
    },
    {
      "cell_type": "code",
      "metadata": {},
      "source": [
        ""
      ],
      "execution_count": null,
      "outputs": []
    },
    {
      "cell_type": "code",
      "metadata": {},
      "source": [
        ""
      ],
      "execution_count": null,
      "outputs": []
    }
  ],
  "metadata": {
    "kernelspec": {
      "display_name": "Python 3",
      "language": "python",
      "name": "python3"
    },
    "language_info": {
      "codemirror_mode": {
        "name": "ipython",
        "version": 3
      },
      "file_extension": ".py",
      "mimetype": "text/x-python",
      "name": "python",
      "nbconvert_exporter": "python",
      "pygments_lexer": "ipython3",
      "version": "3.8.0"
    }
  },
  "nbformat": 4,
  "nbformat_minor": 5
}